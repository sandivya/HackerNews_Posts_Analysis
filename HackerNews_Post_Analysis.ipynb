{
 "cells": [
  {
   "cell_type": "markdown",
   "metadata": {
    "collapsed": true
   },
   "source": [
    "# Analysing 'Hacker Post' submissions\n",
    "In this project, we'll work with a data set of submissions to popular technology site Hacker News. Data set can be found here : [Link](https://www.kaggle.com/hacker-news/hacker-news-posts).\n",
    "We'll compare post submission to analyse whether user are more likely to 'ask a question' or 'share something interesting'. We will also analyse if the posts created at a certain time receive more comments on average than others."
   ]
  },
  {
   "cell_type": "markdown",
   "metadata": {},
   "source": [
    "## Step 1 :  Reading data from the dataset"
   ]
  },
  {
   "cell_type": "code",
   "execution_count": 4,
   "metadata": {
    "collapsed": false
   },
   "outputs": [
    {
     "name": "stdout",
     "output_type": "stream",
     "text": [
      "[['id', 'title', 'url', 'num_points', 'num_comments', 'author', 'created_at'], ['12224879', 'Interactive Dynamic Video', 'http://www.interactivedynamicvideo.com/', '386', '52', 'ne0phyte', '8/4/2016 11:52'], ['10975351', 'How to Use Open Source and Shut the Fuck Up at the Same Time', 'http://hueniverse.com/2016/01/26/how-to-use-open-source-and-shut-the-fuck-up-at-the-same-time/', '39', '10', 'josep2', '1/26/2016 19:30']]\n"
     ]
    }
   ],
   "source": [
    "from csv import reader\n",
    "opened_file = open(\"hacker_news.csv\")\n",
    "read_file = reader(opened_file)\n",
    "\n",
    "hn = list(read_file)\n",
    "\n",
    "print(hn[:3]) #Printing to check"
   ]
  },
  {
   "cell_type": "code",
   "execution_count": 5,
   "metadata": {
    "collapsed": false
   },
   "outputs": [
    {
     "name": "stdout",
     "output_type": "stream",
     "text": [
      "['12224879', 'Interactive Dynamic Video', 'http://www.interactivedynamicvideo.com/', '386', '52', 'ne0phyte', '8/4/2016 11:52']\n"
     ]
    }
   ],
   "source": [
    "#Removing first(header) row\n",
    "hn = hn[1:] #hn is from first row to last\n",
    "\n",
    "print(hn[0]) #Checking again"
   ]
  },
  {
   "cell_type": "markdown",
   "metadata": {},
   "source": [
    "## Step 2 : Filtering Data\n",
    "Since, we only need post submissions where either a question is asked (title starting with : \"Ask HN\") or something is shared (title starting with : \"Show HN\"), we will filter our data accordingly"
   ]
  },
  {
   "cell_type": "code",
   "execution_count": 10,
   "metadata": {
    "collapsed": false
   },
   "outputs": [
    {
     "name": "stdout",
     "output_type": "stream",
     "text": [
      "1744\n",
      "1162\n",
      "17194\n"
     ]
    }
   ],
   "source": [
    "ask_posts = []\n",
    "show_posts = []\n",
    "other_posts = []\n",
    "\n",
    "for row in hn:\n",
    "    title = row[1]\n",
    "    if title.lower().startswith(\"ask hn\"):  #converts to lower then checks\n",
    "        ask_posts.append(row)\n",
    "    elif title.lower().startswith(\"show hn\"):\n",
    "        show_posts.append(row)\n",
    "    else:\n",
    "        other_posts.append(row)\n",
    "\n",
    "#Total posts in each list        \n",
    "print(len(ask_posts))\n",
    "print(len(show_posts))\n",
    "print(len(other_posts))"
   ]
  },
  {
   "cell_type": "markdown",
   "metadata": {},
   "source": [
    "## Step 3 : Determining which receives more average comments"
   ]
  },
  {
   "cell_type": "code",
   "execution_count": 21,
   "metadata": {
    "collapsed": false
   },
   "outputs": [
    {
     "name": "stdout",
     "output_type": "stream",
     "text": [
      "Average 'Ask HN' posts : 14.04\n",
      "Average 'Show HN' posts : 10.32\n"
     ]
    }
   ],
   "source": [
    "total_ask_comments = 0\n",
    "\n",
    "#Total comments in \"Ask HN\"\n",
    "for post in ask_posts:\n",
    "    comm = int(post[4])\n",
    "    total_ask_comments += comm\n",
    "    \n",
    "#Average comments in \"Ask HN\"\n",
    "avg_ask_comments = total_ask_comments/len(ask_posts)    \n",
    "print(\"Average 'Ask HN' posts : {:.2f}\".format(avg_ask_comments))\n",
    "\n",
    "total_show_comments = 0\n",
    "\n",
    "#Total comments in \"Show HN\"\n",
    "for post in show_posts:\n",
    "    comm = int(post[4])\n",
    "    total_show_comments += comm\n",
    "    \n",
    "#Average comments in \"Show HN\"\n",
    "avg_show_comments = total_show_comments/len(show_posts)\n",
    "print(\"Average 'Show HN' posts : {:.2f}\".format(avg_show_comments))\n"
   ]
  },
  {
   "cell_type": "markdown",
   "metadata": {},
   "source": [
    ">As seen from the above findings, \"Ask HN\" posts have total of 24483 comments averaging to 14.04 comments per post while \"Show HN\" posts have 11988 comments in total, averaging to 10.32 comments per post.\n",
    "> <p>Hence, ** *Ask HN* ** recevies more comments on average, i.e., users are more intrested in asking questions rather than sharing their posts and findings."
   ]
  },
  {
   "cell_type": "markdown",
   "metadata": {},
   "source": [
    "## Step 4: Determining time to attract comments\n",
    " We'll use the following steps to perform this analysis:\n",
    "\n",
    "- Calculate the amount of ask posts created in each hour of the day, along with the number of comments received.\n",
    "- Calculate the average number of comments ask posts receive by hour created."
   ]
  },
  {
   "cell_type": "code",
   "execution_count": 26,
   "metadata": {
    "collapsed": false
   },
   "outputs": [
    {
     "name": "stdout",
     "output_type": "stream",
     "text": [
      "{Hour : Number of times}  {'23': 68, '04': 47, '03': 54, '19': 110, '09': 45, '21': 109, '00': 55, '20': 80, '15': 116, '13': 85, '02': 58, '22': 71, '05': 46, '16': 108, '14': 107, '01': 60, '06': 44, '11': 58, '08': 48, '10': 59, '17': 100, '12': 73, '07': 34, '18': 109}\n",
      "\n",
      "\n",
      "{Hour : Total comments}  {'23': 543, '04': 337, '03': 421, '19': 1188, '09': 251, '21': 1745, '00': 447, '20': 1722, '15': 4477, '13': 1253, '02': 1381, '22': 479, '05': 464, '16': 1814, '14': 1416, '01': 683, '06': 397, '11': 641, '08': 492, '10': 793, '17': 1146, '12': 687, '07': 267, '18': 1439}\n"
     ]
    }
   ],
   "source": [
    "import datetime as dt\n",
    "\n",
    "result_list = [] #[ [time, no. of comments] ]\n",
    "\n",
    "for post in ask_posts:\n",
    "    result_list.append([post[6],int(post[4])]) \n",
    "    \n",
    "count_by_hour = {} #{hour, no. of times comment made at that hour}\n",
    "comments_by_hour = {} #{hour, total comments made that hour}\n",
    "\n",
    "for row in result_list:\n",
    "    date = row[0]\n",
    "    conv_date = dt.datetime.strptime(date,\"%m/%d/%Y %H:%M\")\n",
    "    hr = conv_date.strftime(\"%H\")\n",
    "    \n",
    "    if hr in count_by_hour:\n",
    "        count_by_hour[hr] += 1\n",
    "        comments_by_hour[hr] += row[1]\n",
    "    else:\n",
    "        count_by_hour[hr] = 1\n",
    "        comments_by_hour[hr] = row[1]\n",
    "        \n",
    "print(\"{Hour : Number of times} \",count_by_hour)\n",
    "print('\\n')\n",
    "print(\"{Hour : Total comments} \",comments_by_hour)"
   ]
  },
  {
   "cell_type": "markdown",
   "metadata": {},
   "source": [
    "##  Step 5 : Calculating the average number of comments per post for posts created during each hour of the day"
   ]
  },
  {
   "cell_type": "code",
   "execution_count": 41,
   "metadata": {
    "collapsed": false
   },
   "outputs": [
    {
     "name": "stdout",
     "output_type": "stream",
     "text": [
      "[[38.5948275862069, '15'], [23.810344827586206, '02'], [21.525, '20'], [16.796296296296298, '16'], [16.009174311926607, '21'], [14.741176470588234, '13'], [13.440677966101696, '10'], [13.233644859813085, '14'], [13.20183486238532, '18'], [11.46, '17'], [11.383333333333333, '01'], [11.051724137931034, '11'], [10.8, '19'], [10.25, '08'], [10.08695652173913, '05'], [9.41095890410959, '12'], [9.022727272727273, '06'], [8.127272727272727, '00'], [7.985294117647059, '23'], [7.852941176470588, '07'], [7.796296296296297, '03'], [7.170212765957447, '04'], [6.746478873239437, '22'], [5.5777777777777775, '09']]\n"
     ]
    }
   ],
   "source": [
    "avg_by_hour = [] #[ [time, avg comment]]\n",
    "\n",
    "#Dividing total comments by hour frequency to determine avg for each hour\n",
    "for time,comment in comments_by_hour.items():\n",
    "        ntimes = count_by_hour[time]\n",
    "        avg_comment = comment/ntimes\n",
    "        avg_by_hour.append([time, avg_comment])\n",
    "        \n",
    "swap_avg_by_hour = [] # [ [avg_comment, time]]\n",
    "\n",
    "#Swaping avg_by_hour so that sorted() can be used based on average comment\n",
    "for row in avg_by_hour:\n",
    "    swap_avg_by_hour.append([row[1], row[0]])\n",
    "    \n",
    "sorted_swap = sorted(swap_avg_by_hour, reverse=True) \n",
    "\n",
    "print(sorted_swap)\n"
   ]
  },
  {
   "cell_type": "markdown",
   "metadata": {},
   "source": [
    "## Step 6 : Deducing \"Top 5 Hours for Ask Posts Comments\"\n"
   ]
  },
  {
   "cell_type": "code",
   "execution_count": 44,
   "metadata": {
    "collapsed": false
   },
   "outputs": [
    {
     "name": "stdout",
     "output_type": "stream",
     "text": [
      "15:00: 38.59 average comments per post.\n",
      "02:00: 23.81 average comments per post.\n",
      "20:00: 21.52 average comments per post.\n",
      "16:00: 16.80 average comments per post.\n",
      "21:00: 16.01 average comments per post.\n"
     ]
    }
   ],
   "source": [
    "import datetime as dt\n",
    "\n",
    "for element in sorted_swap[:5]:\n",
    "    comments = element[0]\n",
    "    date = dt.datetime.strptime(element[1],\"%H\")\n",
    "    hr = date.strftime(\"%H\")\n",
    "    template = \"{}:00: {:.2f} average comments per post.\".format(hr,comments)\n",
    "    print(template)\n",
    "    \n",
    "    "
   ]
  },
  {
   "cell_type": "markdown",
   "metadata": {},
   "source": [
    "> ## Conclusion\n",
    "As seen from the above conclusion, the best hours to post on **Hacker Post**  are : ** *3:00pm* , *2:00am* , *8:00pm* , *4:00pm* , *9:00pm* **"
   ]
  }
 ],
 "metadata": {
  "kernelspec": {
   "display_name": "Python 3",
   "language": "python",
   "name": "python3"
  },
  "language_info": {
   "codemirror_mode": {
    "name": "ipython",
    "version": 3
   },
   "file_extension": ".py",
   "mimetype": "text/x-python",
   "name": "python",
   "nbconvert_exporter": "python",
   "pygments_lexer": "ipython3",
   "version": "3.4.3"
  }
 },
 "nbformat": 4,
 "nbformat_minor": 2
}
